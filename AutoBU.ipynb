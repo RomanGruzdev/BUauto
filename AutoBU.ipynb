{
 "cells": [
  {
   "cell_type": "code",
   "execution_count": 1,
   "id": "9cd0a9da",
   "metadata": {},
   "outputs": [],
   "source": [
    "import pandas as pd\n"
   ]
  },
  {
   "cell_type": "code",
   "execution_count": 2,
   "id": "a50dc5cc",
   "metadata": {},
   "outputs": [],
   "source": [
    "pd.set_option('display.max_columns', None)"
   ]
  },
  {
   "cell_type": "code",
   "execution_count": 3,
   "id": "22e052e3",
   "metadata": {},
   "outputs": [],
   "source": [
    "data_train = pd.read_csv('train.csv')\n",
    "sample = pd.read_csv('sample_submission.csv')"
   ]
  },
  {
   "cell_type": "code",
   "execution_count": 4,
   "id": "170a5847",
   "metadata": {},
   "outputs": [
    {
     "data": {
      "text/html": [
       "<div>\n",
       "<style scoped>\n",
       "    .dataframe tbody tr th:only-of-type {\n",
       "        vertical-align: middle;\n",
       "    }\n",
       "\n",
       "    .dataframe tbody tr th {\n",
       "        vertical-align: top;\n",
       "    }\n",
       "\n",
       "    .dataframe thead th {\n",
       "        text-align: right;\n",
       "    }\n",
       "</style>\n",
       "<table border=\"1\" class=\"dataframe\">\n",
       "  <thead>\n",
       "    <tr style=\"text-align: right;\">\n",
       "      <th></th>\n",
       "      <th>year</th>\n",
       "      <th>make</th>\n",
       "      <th>model</th>\n",
       "      <th>trim</th>\n",
       "      <th>body</th>\n",
       "      <th>transmission</th>\n",
       "      <th>vin</th>\n",
       "      <th>state</th>\n",
       "      <th>condition</th>\n",
       "      <th>odometer</th>\n",
       "      <th>color</th>\n",
       "      <th>interior</th>\n",
       "      <th>seller</th>\n",
       "      <th>sellingprice</th>\n",
       "      <th>saledate</th>\n",
       "    </tr>\n",
       "  </thead>\n",
       "  <tbody>\n",
       "    <tr>\n",
       "      <th>0</th>\n",
       "      <td>2011</td>\n",
       "      <td>Ford</td>\n",
       "      <td>Edge</td>\n",
       "      <td>SEL</td>\n",
       "      <td>suv</td>\n",
       "      <td>automatic</td>\n",
       "      <td>2fmdk3jc4bba41556</td>\n",
       "      <td>md</td>\n",
       "      <td>4.2</td>\n",
       "      <td>111041.0</td>\n",
       "      <td>black</td>\n",
       "      <td>black</td>\n",
       "      <td>santander consumer</td>\n",
       "      <td>12500</td>\n",
       "      <td>Tue Jun 02 2015 02:30:00 GMT-0700 (PDT)</td>\n",
       "    </tr>\n",
       "    <tr>\n",
       "      <th>1</th>\n",
       "      <td>2014</td>\n",
       "      <td>Ford</td>\n",
       "      <td>Fusion</td>\n",
       "      <td>SE</td>\n",
       "      <td>Sedan</td>\n",
       "      <td>automatic</td>\n",
       "      <td>3fa6p0h75er208976</td>\n",
       "      <td>mo</td>\n",
       "      <td>3.5</td>\n",
       "      <td>31034.0</td>\n",
       "      <td>black</td>\n",
       "      <td>black</td>\n",
       "      <td>ars/avis budget group</td>\n",
       "      <td>14500</td>\n",
       "      <td>Wed Feb 25 2015 02:00:00 GMT-0800 (PST)</td>\n",
       "    </tr>\n",
       "    <tr>\n",
       "      <th>2</th>\n",
       "      <td>2012</td>\n",
       "      <td>Nissan</td>\n",
       "      <td>Sentra</td>\n",
       "      <td>2.0 SL</td>\n",
       "      <td>sedan</td>\n",
       "      <td>automatic</td>\n",
       "      <td>3n1ab6ap4cl698412</td>\n",
       "      <td>nj</td>\n",
       "      <td>2.2</td>\n",
       "      <td>35619.0</td>\n",
       "      <td>black</td>\n",
       "      <td>black</td>\n",
       "      <td>nissan-infiniti lt</td>\n",
       "      <td>9100</td>\n",
       "      <td>Wed Jun 10 2015 02:30:00 GMT-0700 (PDT)</td>\n",
       "    </tr>\n",
       "    <tr>\n",
       "      <th>3</th>\n",
       "      <td>2003</td>\n",
       "      <td>HUMMER</td>\n",
       "      <td>H2</td>\n",
       "      <td>Base</td>\n",
       "      <td>suv</td>\n",
       "      <td>automatic</td>\n",
       "      <td>5grgn23u93h101360</td>\n",
       "      <td>tx</td>\n",
       "      <td>2.8</td>\n",
       "      <td>131301.0</td>\n",
       "      <td>gold</td>\n",
       "      <td>beige</td>\n",
       "      <td>wichita falls ford lin inc</td>\n",
       "      <td>13300</td>\n",
       "      <td>Wed Jun 17 2015 03:00:00 GMT-0700 (PDT)</td>\n",
       "    </tr>\n",
       "    <tr>\n",
       "      <th>4</th>\n",
       "      <td>2007</td>\n",
       "      <td>Ford</td>\n",
       "      <td>Fusion</td>\n",
       "      <td>SEL</td>\n",
       "      <td>Sedan</td>\n",
       "      <td>automatic</td>\n",
       "      <td>3fahp08z17r268380</td>\n",
       "      <td>md</td>\n",
       "      <td>2.0</td>\n",
       "      <td>127709.0</td>\n",
       "      <td>black</td>\n",
       "      <td>black</td>\n",
       "      <td>purple heart</td>\n",
       "      <td>1300</td>\n",
       "      <td>Tue Feb 03 2015 04:00:00 GMT-0800 (PST)</td>\n",
       "    </tr>\n",
       "  </tbody>\n",
       "</table>\n",
       "</div>"
      ],
      "text/plain": [
       "   year    make   model    trim   body transmission                vin state  \\\n",
       "0  2011    Ford    Edge     SEL    suv    automatic  2fmdk3jc4bba41556    md   \n",
       "1  2014    Ford  Fusion      SE  Sedan    automatic  3fa6p0h75er208976    mo   \n",
       "2  2012  Nissan  Sentra  2.0 SL  sedan    automatic  3n1ab6ap4cl698412    nj   \n",
       "3  2003  HUMMER      H2    Base    suv    automatic  5grgn23u93h101360    tx   \n",
       "4  2007    Ford  Fusion     SEL  Sedan    automatic  3fahp08z17r268380    md   \n",
       "\n",
       "   condition  odometer  color interior                      seller  \\\n",
       "0        4.2  111041.0  black    black          santander consumer   \n",
       "1        3.5   31034.0  black    black       ars/avis budget group   \n",
       "2        2.2   35619.0  black    black          nissan-infiniti lt   \n",
       "3        2.8  131301.0   gold    beige  wichita falls ford lin inc   \n",
       "4        2.0  127709.0  black    black                purple heart   \n",
       "\n",
       "   sellingprice                                 saledate  \n",
       "0         12500  Tue Jun 02 2015 02:30:00 GMT-0700 (PDT)  \n",
       "1         14500  Wed Feb 25 2015 02:00:00 GMT-0800 (PST)  \n",
       "2          9100  Wed Jun 10 2015 02:30:00 GMT-0700 (PDT)  \n",
       "3         13300  Wed Jun 17 2015 03:00:00 GMT-0700 (PDT)  \n",
       "4          1300  Tue Feb 03 2015 04:00:00 GMT-0800 (PST)  "
      ]
     },
     "metadata": {},
     "output_type": "display_data"
    },
    {
     "name": "stdout",
     "output_type": "stream",
     "text": [
      "<class 'pandas.core.frame.DataFrame'>\n",
      "RangeIndex: 440236 entries, 0 to 440235\n",
      "Data columns (total 15 columns):\n",
      " #   Column        Non-Null Count   Dtype  \n",
      "---  ------        --------------   -----  \n",
      " 0   year          440236 non-null  int64  \n",
      " 1   make          432193 non-null  object \n",
      " 2   model         432113 non-null  object \n",
      " 3   trim          431899 non-null  object \n",
      " 4   body          429843 non-null  object \n",
      " 5   transmission  388775 non-null  object \n",
      " 6   vin           440236 non-null  object \n",
      " 7   state         440236 non-null  object \n",
      " 8   condition     430831 non-null  float64\n",
      " 9   odometer      440167 non-null  float64\n",
      " 10  color         439650 non-null  object \n",
      " 11  interior      439650 non-null  object \n",
      " 12  seller        440236 non-null  object \n",
      " 13  sellingprice  440236 non-null  int64  \n",
      " 14  saledate      440236 non-null  object \n",
      "dtypes: float64(2), int64(2), object(11)\n",
      "memory usage: 50.4+ MB\n"
     ]
    },
    {
     "data": {
      "text/plain": [
       "None"
      ]
     },
     "metadata": {},
     "output_type": "display_data"
    },
    {
     "data": {
      "text/html": [
       "<div>\n",
       "<style scoped>\n",
       "    .dataframe tbody tr th:only-of-type {\n",
       "        vertical-align: middle;\n",
       "    }\n",
       "\n",
       "    .dataframe tbody tr th {\n",
       "        vertical-align: top;\n",
       "    }\n",
       "\n",
       "    .dataframe thead th {\n",
       "        text-align: right;\n",
       "    }\n",
       "</style>\n",
       "<table border=\"1\" class=\"dataframe\">\n",
       "  <thead>\n",
       "    <tr style=\"text-align: right;\">\n",
       "      <th></th>\n",
       "      <th>year</th>\n",
       "      <th>condition</th>\n",
       "      <th>odometer</th>\n",
       "      <th>sellingprice</th>\n",
       "    </tr>\n",
       "  </thead>\n",
       "  <tbody>\n",
       "    <tr>\n",
       "      <th>count</th>\n",
       "      <td>440236.000000</td>\n",
       "      <td>430831.000000</td>\n",
       "      <td>440167.000000</td>\n",
       "      <td>440236.000000</td>\n",
       "    </tr>\n",
       "    <tr>\n",
       "      <th>mean</th>\n",
       "      <td>2010.040101</td>\n",
       "      <td>3.425077</td>\n",
       "      <td>68344.421604</td>\n",
       "      <td>13592.209588</td>\n",
       "    </tr>\n",
       "    <tr>\n",
       "      <th>std</th>\n",
       "      <td>3.977945</td>\n",
       "      <td>0.949973</td>\n",
       "      <td>53542.203908</td>\n",
       "      <td>9751.479098</td>\n",
       "    </tr>\n",
       "    <tr>\n",
       "      <th>min</th>\n",
       "      <td>1982.000000</td>\n",
       "      <td>1.000000</td>\n",
       "      <td>1.000000</td>\n",
       "      <td>1.000000</td>\n",
       "    </tr>\n",
       "    <tr>\n",
       "      <th>25%</th>\n",
       "      <td>2007.000000</td>\n",
       "      <td>2.700000</td>\n",
       "      <td>28258.000000</td>\n",
       "      <td>6900.000000</td>\n",
       "    </tr>\n",
       "    <tr>\n",
       "      <th>50%</th>\n",
       "      <td>2012.000000</td>\n",
       "      <td>3.600000</td>\n",
       "      <td>52098.000000</td>\n",
       "      <td>12100.000000</td>\n",
       "    </tr>\n",
       "    <tr>\n",
       "      <th>75%</th>\n",
       "      <td>2013.000000</td>\n",
       "      <td>4.200000</td>\n",
       "      <td>99272.000000</td>\n",
       "      <td>18200.000000</td>\n",
       "    </tr>\n",
       "    <tr>\n",
       "      <th>max</th>\n",
       "      <td>2015.000000</td>\n",
       "      <td>5.000000</td>\n",
       "      <td>999999.000000</td>\n",
       "      <td>230000.000000</td>\n",
       "    </tr>\n",
       "  </tbody>\n",
       "</table>\n",
       "</div>"
      ],
      "text/plain": [
       "                year      condition       odometer   sellingprice\n",
       "count  440236.000000  430831.000000  440167.000000  440236.000000\n",
       "mean     2010.040101       3.425077   68344.421604   13592.209588\n",
       "std         3.977945       0.949973   53542.203908    9751.479098\n",
       "min      1982.000000       1.000000       1.000000       1.000000\n",
       "25%      2007.000000       2.700000   28258.000000    6900.000000\n",
       "50%      2012.000000       3.600000   52098.000000   12100.000000\n",
       "75%      2013.000000       4.200000   99272.000000   18200.000000\n",
       "max      2015.000000       5.000000  999999.000000  230000.000000"
      ]
     },
     "metadata": {},
     "output_type": "display_data"
    },
    {
     "data": {
      "text/plain": [
       "year                0\n",
       "make             8043\n",
       "model            8123\n",
       "trim             8337\n",
       "body            10393\n",
       "transmission    51461\n",
       "vin                 0\n",
       "state               0\n",
       "condition        9405\n",
       "odometer           69\n",
       "color             586\n",
       "interior          586\n",
       "seller              0\n",
       "sellingprice        0\n",
       "saledate            0\n",
       "dtype: int64"
      ]
     },
     "metadata": {},
     "output_type": "display_data"
    }
   ],
   "source": [
    "display(data_train.head())\n",
    "display(data_train.info())\n",
    "display(data_train.describe())\n",
    "display(data_train.isna().sum())"
   ]
  },
  {
   "cell_type": "markdown",
   "id": "01bbefe9",
   "metadata": {},
   "source": [
    "## Год"
   ]
  },
  {
   "cell_type": "code",
   "execution_count": 5,
   "id": "178960a5",
   "metadata": {
    "scrolled": false
   },
   "outputs": [
    {
     "data": {
      "text/plain": [
       "array([1982, 1983, 1984, 1985, 1986, 1987, 1988, 1989, 1990, 1991, 1992,\n",
       "       1993, 1994, 1995, 1996, 1997, 1998, 1999, 2000, 2001, 2002, 2003,\n",
       "       2004, 2005, 2006, 2007, 2008, 2009, 2010, 2011, 2012, 2013, 2014,\n",
       "       2015], dtype=int64)"
      ]
     },
     "execution_count": 5,
     "metadata": {},
     "output_type": "execute_result"
    }
   ],
   "source": [
    "data_train['year'].sort_values().unique()"
   ]
  },
  {
   "cell_type": "code",
   "execution_count": 6,
   "id": "f06e4987",
   "metadata": {},
   "outputs": [
    {
     "data": {
      "image/png": "[encoded data removed]",
      "text/plain": [
       "<Figure size 1500x1000 with 1 Axes>"
      ]
     },
     "metadata": {},
     "output_type": "display_data"
    }
   ],
   "source": [
    "data_train['year'].hist(bins=30,figsize=(15,10));"
   ]
  },
  {
   "cell_type": "code",
   "execution_count": 7,
   "id": "d652c153",
   "metadata": {},
   "outputs": [
    {
     "data": {
      "text/plain": [
       "2012    80625\n",
       "2013    77566\n",
       "2014    64225\n",
       "2011    38115\n",
       "2008    24646\n",
       "2007    24152\n",
       "2006    21118\n",
       "2010    20647\n",
       "2005    16794\n",
       "2009    16064\n",
       "2004    13658\n",
       "2003    10512\n",
       "2002     7726\n",
       "2015     7462\n",
       "2001     5147\n",
       "2000     4161\n",
       "1999     2658\n",
       "1998     1747\n",
       "1997     1224\n",
       "1996      683\n",
       "1995      567\n",
       "1994      319\n",
       "1993      168\n",
       "1992      103\n",
       "1991       56\n",
       "1990       38\n",
       "1989       15\n",
       "1988       11\n",
       "1985       10\n",
       "1986        8\n",
       "1987        5\n",
       "1984        4\n",
       "1983        1\n",
       "1982        1\n",
       "Name: year, dtype: int64"
      ]
     },
     "execution_count": 7,
     "metadata": {},
     "output_type": "execute_result"
    }
   ],
   "source": [
    "data_train['year'].value_counts()"
   ]
  },
  {
   "cell_type": "markdown",
   "id": "4c140292",
   "metadata": {},
   "source": [
    "## Марка"
   ]
  },
  {
   "cell_type": "markdown",
   "id": "867bfd39",
   "metadata": {},
   "source": [
    "Посмотрим уникальные значения в столбце"
   ]
  },
  {
   "cell_type": "code",
   "execution_count": 8,
   "id": "81077981",
   "metadata": {},
   "outputs": [
    {
     "data": {
      "text/plain": [
       "92"
      ]
     },
     "execution_count": 8,
     "metadata": {},
     "output_type": "execute_result"
    }
   ],
   "source": [
    "data_train['make'].nunique()"
   ]
  },
  {
   "cell_type": "markdown",
   "id": "fe57c74f",
   "metadata": {},
   "source": [
    "Приведем к нижнему регистру"
   ]
  },
  {
   "cell_type": "code",
   "execution_count": 9,
   "id": "f0c18871",
   "metadata": {},
   "outputs": [],
   "source": [
    "data_train['make'] = data_train['make'].str.upper()"
   ]
  },
  {
   "cell_type": "markdown",
   "id": "4d4b05a4",
   "metadata": {},
   "source": [
    "Выведем список всех марок авто."
   ]
  },
  {
   "cell_type": "code",
   "execution_count": 10,
   "id": "1749d750",
   "metadata": {},
   "outputs": [
    {
     "data": {
      "text/plain": [
       "array(['ACURA', 'AIRSTREAM', 'ASTON MARTIN', 'AUDI', 'BENTLEY', 'BMW',\n",
       "       'BUICK', 'CADILLAC', 'CHEVROLET', 'CHRYSLER', 'DAEWOO', 'DODGE',\n",
       "       'DODGE TK', 'DOT', 'FERRARI', 'FIAT', 'FISKER', 'FORD',\n",
       "       'FORD TRUCK', 'GEO', 'GMC', 'GMC TRUCK', 'HONDA', 'HUMMER',\n",
       "       'HYUNDAI', 'INFINITI', 'ISUZU', 'JAGUAR', 'JEEP', 'KIA',\n",
       "       'LAMBORGHINI', 'LAND ROVER', 'LANDROVER', 'LEXUS', 'LINCOLN',\n",
       "       'MASERATI', 'MAZDA', 'MAZDA TK', 'MERCEDES', 'MERCEDES-B',\n",
       "       'MERCEDES-BENZ', 'MERCURY', 'MINI', 'MITSUBISHI', 'NISSAN',\n",
       "       'OLDSMOBILE', 'PLYMOUTH', 'PONTIAC', 'PORSCHE', 'RAM',\n",
       "       'ROLLS-ROYCE', 'SAAB', 'SATURN', 'SCION', 'SMART', 'SUBARU',\n",
       "       'SUZUKI', 'TESLA', 'TOYOTA', 'VOLKSWAGEN', 'VOLVO', 'VW', nan],\n",
       "      dtype=object)"
      ]
     },
     "execution_count": 10,
     "metadata": {},
     "output_type": "execute_result"
    }
   ],
   "source": [
    "data_train['make'].sort_values().unique()#Выведем все названия населённых пунктов в столбце locality_name "
   ]
  },
  {
   "cell_type": "markdown",
   "id": "c7b7b560",
   "metadata": {},
   "source": [
    "Есть дубликаты, такие как dodge и dodge tk и ram, ford и ford truck, gmc и gmc truck, land rover и landrover, mazda и mazda tk, mercedes и mercedes-b и mercedes-benz, volkswagen и vw. Уберем неявные дубликаты."
   ]
  },
  {
   "cell_type": "code",
   "execution_count": 11,
   "id": "a46dbbca",
   "metadata": {},
   "outputs": [],
   "source": [
    "data_train['make'] = data_train['make'].str.replace('DODGE TK','DODGE')\n",
    "data_train['make'] = data_train['make'].str.replace('RAM','DODGE')\n",
    "data_train['make'] = data_train['make'].str.replace('FORD TRUCK', 'FORD')\n",
    "data_train['make'] = data_train['make'].str.replace('LANDROVER', 'LAND ROVER')\n",
    "data_train['make'] = data_train['make'].str.replace('MERCEDES-BENZ','MERCEDES')\n",
    "data_train['make'] = data_train['make'].str.replace('MERCEDES-B', 'MERCEDES')\n",
    "data_train['make'] = data_train['make'].str.replace('GMC TRUCK', 'GMC')\n",
    "data_train['make'] = data_train['make'].str.replace('MAZDA TK', 'MAZDA')\n",
    "data_train['make'] = data_train['make'].str.replace('VW', 'VOLKSWAGEN')"
   ]
  },
  {
   "cell_type": "code",
   "execution_count": 12,
   "id": "a8a2bad9",
   "metadata": {},
   "outputs": [
    {
     "data": {
      "text/plain": [
       "array(['ACURA', 'AIRSTREAM', 'ASTON MARTIN', 'AUDI', 'BENTLEY', 'BMW',\n",
       "       'BUICK', 'CADILLAC', 'CHEVROLET', 'CHRYSLER', 'DAEWOO', 'DODGE',\n",
       "       'DOT', 'FERRARI', 'FIAT', 'FISKER', 'FORD', 'GEO', 'GMC', 'HONDA',\n",
       "       'HUMMER', 'HYUNDAI', 'INFINITI', 'ISUZU', 'JAGUAR', 'JEEP', 'KIA',\n",
       "       'LAMBORGHINI', 'LAND ROVER', 'LEXUS', 'LINCOLN', 'MASERATI',\n",
       "       'MAZDA', 'MERCEDES', 'MERCURY', 'MINI', 'MITSUBISHI', 'NISSAN',\n",
       "       'OLDSMOBILE', 'PLYMOUTH', 'PONTIAC', 'PORSCHE', 'ROLLS-ROYCE',\n",
       "       'SAAB', 'SATURN', 'SCION', 'SMART', 'SUBARU', 'SUZUKI', 'TESLA',\n",
       "       'TOYOTA', 'VOLKSWAGEN', 'VOLVO', nan], dtype=object)"
      ]
     },
     "execution_count": 12,
     "metadata": {},
     "output_type": "execute_result"
    }
   ],
   "source": [
    "data_train['make'].sort_values().unique()"
   ]
  },
  {
   "cell_type": "markdown",
   "id": "0fa84a61",
   "metadata": {},
   "source": [
    "## Модель"
   ]
  },
  {
   "cell_type": "code",
   "execution_count": 13,
   "id": "5498aebb",
   "metadata": {
    "scrolled": false
   },
   "outputs": [
    {
     "data": {
      "text/plain": [
       "array(['1 Series', '1500', '190-Class', '2 Series', '200', '200SX',\n",
       "       '2500', '3', '3 Series', '3 Series Gran Turismo', '300',\n",
       "       '300-Class', '3000GT', '300M', '300ZX', '300e', '320i', '323i',\n",
       "       '328i', '3500', '350Z', '350z', '370Z', '4 Series',\n",
       "       '4 Series Gran Coupe', '400-Class', '420-Class', '420sel', '42c',\n",
       "       '458 Italia', '4Runner', '5 Series', '5 Series Gran Turismo',\n",
       "       '500', '500-Class', '500L', '500e', '6', '6 Series',\n",
       "       '6 Series Gran Coupe', '626', '7', '7 Series', '750i', '750li',\n",
       "       '750lxi', '8 Series', '850', '9-2X', '9-3', '9-5', '9-7X', '911',\n",
       "       '940', '960', 'A3', 'A4', 'A5', 'A6', 'A7', 'A8', 'ATS', 'Acadia',\n",
       "       'Accent', 'Accord', 'Accord Crosstour', 'Accord Hybrid',\n",
       "       'ActiveHybrid 5', 'ActiveHybrid 7', 'ActiveHybrid X6', 'Aerio',\n",
       "       'Alero', 'Altima', 'Altima Hybrid', 'Amanti', 'Amigo', 'Armada',\n",
       "       'Ascender', 'Aspen', 'Aspire', 'Astra', 'Astro', 'Astro Cargo',\n",
       "       'Aura', 'Aura Hybrid', 'Aurora', 'Avalanche', 'Avalon',\n",
       "       'Avalon Hybrid', 'Avenger', 'Aveo', 'Aviator', 'Axiom', 'Azera',\n",
       "       'Aztek', 'B-Class Electric Drive', 'B-Series', 'B-Series Pickup',\n",
       "       'B-Series Truck', 'B9 Tribeca', 'BRZ', 'Baja', 'Beetle',\n",
       "       'Beetle Convertible', 'Black Diamond Avalanche', 'Blackwood',\n",
       "       'Blazer', 'Bonneville', 'Borrego', 'Boxster', 'Bravada', 'Breeze',\n",
       "       'C-Class', 'C-Max Energi', 'C-Max Hybrid', 'C/K 1500 Series',\n",
       "       'C/K 2500 Series', 'C/K 3500 Series', 'C/V Cargo Van',\n",
       "       'C/V Tradesman', 'C30', 'C70', 'CC', 'CL', 'CL-Class', 'CLA-Class',\n",
       "       'CLK-Class', 'CLS-Class', 'CR-V', 'CR-Z', 'CT 200h', 'CTS',\n",
       "       'CTS Coupe', 'CTS Wagon', 'CTS-V', 'CTS-V Coupe', 'CTS-V Wagon',\n",
       "       'CV Tradesman', 'CX-5', 'CX-7', 'CX-9', 'Cabrio', 'Cabriolet',\n",
       "       'Cadenza', 'Caliber', 'California', 'Camaro', 'Camry',\n",
       "       'Camry Hybrid', 'Camry Solara', 'Canyon', 'Caprice',\n",
       "       'Captiva Sport', 'Caravan', 'Catera', 'Cavalier', 'Cayenne',\n",
       "       'Cayman', 'Cayman S', 'Celica', 'Century', 'Challenger', 'Charger',\n",
       "       'Cherokee', 'Cirrus', 'Civic', 'Civic del Sol', 'Classic',\n",
       "       'Cobalt', 'Colorado', 'Commander', 'Compass', 'Concorde',\n",
       "       'Continental', 'Continental Flying Spur',\n",
       "       'Continental Flying Spur Speed', 'Continental GT',\n",
       "       'Continental GT Speed', 'Continental GTC', 'Continental GTC Speed',\n",
       "       'Continental Supersports', 'Contour', 'Cooper', 'Cooper Clubman',\n",
       "       'Cooper Countryman', 'Cooper Coupe', 'Cooper Paceman',\n",
       "       'Cooper Roadster', 'Corolla', 'Corsica', 'Corvette',\n",
       "       'Corvette Stingray', 'Cougar', 'Coupe', 'Crossfire', 'Crosstour',\n",
       "       'Crown Victoria', 'Cruze', 'Cube', 'Cutlass', 'Cutlass Ciera',\n",
       "       'Cutlass Supreme', 'DB9', 'DTS', 'Dakota', 'Dart', 'DeVille',\n",
       "       'Diamante', 'Discovery', 'Discovery Series II', 'Durango', 'E-150',\n",
       "       'E-250', 'E-350', 'E-Class', 'E-Series Van', 'E-Series Wagon',\n",
       "       'ECHO', 'ELR', 'ES 300', 'ES 300h', 'ES 330', 'ES 350', 'EX',\n",
       "       'EX35', 'Eclipse', 'Eclipse Spyder', 'Econoline Cargo',\n",
       "       'Econoline Wagon', 'Edge', 'Eighty-Eight', 'Eighty-Eight Royale',\n",
       "       'Elantra', 'Elantra Coupe', 'Elantra GT', 'Elantra Touring',\n",
       "       'Eldorado', 'Element', 'Enclave', 'Encore', 'Endeavor',\n",
       "       'Entourage', 'Envoy', 'Envoy XL', 'Envoy XUV', 'Eos', 'Equator',\n",
       "       'Equinox', 'Equus', 'Escalade', 'Escalade ESV', 'Escalade EXT',\n",
       "       'Escalade Hybrid', 'Escape', 'Escape Hybrid', 'Escort', 'Esteem',\n",
       "       'EuroVan', 'Excursion', 'Expedition', 'Expedition EL', 'Explorer',\n",
       "       'Explorer Sport', 'Explorer Sport Trac', 'Express',\n",
       "       'Express Cargo', 'F-150', 'F-150 Heritage', 'F-150 SVT Lightning',\n",
       "       'F-250', 'F-250 Super Duty', 'F-350 Super Duty',\n",
       "       'F-450 Super Duty', 'F-TYPE', 'F430', 'FJ Cruiser', 'FR-S', 'FX',\n",
       "       'FX35', 'FX45', 'FX50', 'Fiesta', 'Firebird', 'Fit',\n",
       "       'Five Hundred', 'Fleetwood', 'Flex', 'Flying Spur', 'Focus',\n",
       "       'Focus ST', 'Forenza', 'Forester', 'Forte', 'Freelander',\n",
       "       'Freestar', 'Freestyle', 'Frontier', 'Fusion', 'Fusion Energi',\n",
       "       'Fusion Hybrid', 'G Convertible', 'G Coupe', 'G Sedan', 'G-Class',\n",
       "       'G20', 'G3', 'G35', 'G37', 'G37 Convertible', 'G37 Coupe', 'G5',\n",
       "       'G6', 'G8', 'GL-Class', 'GLA-Class', 'GLI', 'GLK-Class', 'GS 300',\n",
       "       'GS 350', 'GS 400', 'GS 430', 'GS 450h', 'GS 460', 'GT-R', 'GTI',\n",
       "       'GTO', 'GX 460', 'GX 470', 'Galant', 'Gallardo', 'Genesis',\n",
       "       'Genesis Coupe', 'Ghibli', 'Ghost', 'Golf', 'Golf GTI', 'Golf R',\n",
       "       'GranSport', 'GranTurismo', 'GranTurismo Convertible', 'Grand Am',\n",
       "       'Grand Caravan', 'Grand Cherokee', 'Grand Marquis', 'Grand Prix',\n",
       "       'Grand Vitara', 'H1', 'H2', 'H2 SUT', 'H3', 'H3T', 'HHR',\n",
       "       'HS 250h', 'Highlander', 'Highlander Hybrid', 'I30', 'I35', 'ILX',\n",
       "       'ION', 'IS 250', 'IS 250 C', 'IS 300', 'IS 350', 'IS 350 C',\n",
       "       'IS F', 'Impala', 'Impala Limited', 'Impreza', 'Impreza WRX',\n",
       "       'Insight', 'Integra', 'Intrepid', 'Intrigue', 'J30', 'JX', 'Jetta',\n",
       "       'Jetta GLI', 'Jetta Hybrid', 'Jetta SportWagen', 'Jimmy',\n",
       "       'Journey', 'Juke', 'K900', 'Karma', 'Kizashi', 'L-Series', 'L300',\n",
       "       'LHS', 'LR2', 'LR3', 'LR4', 'LS', 'LS 400', 'LS 430', 'LS 460',\n",
       "       'LS 600h L', 'LX 450', 'LX 470', 'LX 570', 'LaCrosse', 'Lancer',\n",
       "       'Lancer Evolution', 'Lancer Sportback', 'Land Cruiser', 'Le Baron',\n",
       "       'LeSabre', 'Leaf', 'Legacy', 'Legend', 'Liberty', 'Lucerne',\n",
       "       'Lumina', 'M', 'M-Class', 'M3', 'M35', 'M37', 'M4', 'M45', 'M5',\n",
       "       'M56', 'M6', 'M6 Gran Coupe', 'MDX', 'MKC', 'MKS', 'MKT', 'MKX',\n",
       "       'MKZ', 'MKZ Hybrid', 'ML55 AMG', 'MPV', 'MR2 Spyder', 'MX-5 Miata',\n",
       "       'Macan', 'Magnum', 'Malibu', 'Malibu Classic', 'Malibu Hybrid',\n",
       "       'Malibu Maxx', 'Marauder', 'Mariner', 'Mariner Hybrid', 'Mark LT',\n",
       "       'Mark VIII', 'Matrix', 'Maxima', 'Mazda2', 'Mazda3', 'Mazda5',\n",
       "       'Mazda6', 'Mazdaspeed 3', 'Mazdaspeed MX-5 Miata',\n",
       "       'Mazdaspeed Mazda3', 'Mazdaspeed Mazda6', 'Mazdaspeed Protege',\n",
       "       'Mazdaspeed3', 'Metro', 'Milan', 'Milan Hybrid', 'Millenia',\n",
       "       'Mirage', 'Model S', 'Montana', 'Montana SV6', 'Monte Carlo',\n",
       "       'Montego', 'Monterey', 'Montero', 'Montero Sport', 'Mountaineer',\n",
       "       'Murano', 'Murano CrossCabriolet', 'Mustang', 'Mustang SVT Cobra',\n",
       "       'Mystique', 'NV', 'NV Cargo', 'NV Passenger', 'NV200', 'Navigator',\n",
       "       'Navigator L', 'Neon', 'New Beetle', 'Nitro', 'Nubira', 'Odyssey',\n",
       "       'Optima', 'Outback', 'Outlander', 'Outlander Sport', 'Outlook',\n",
       "       'PT Cruiser', 'Pacifica', 'Panamera', 'Park Avenue', 'Paseo',\n",
       "       'Passat', 'Passport', 'Pathfinder', 'Patriot', 'Phaeton', 'Pickup',\n",
       "       'Pilot', 'Prelude', 'Prius', 'Prius Plug-in', 'Prius c', 'Prius v',\n",
       "       'Prizm', 'Promaster Cargo Van', 'Protege', 'Protege5', 'Prowler',\n",
       "       'Q3', 'Q45', 'Q5', 'Q50', 'Q60 Convertible', 'Q60 Coupe', 'Q7',\n",
       "       'Q70', 'QX', 'QX4', 'QX50', 'QX56', 'QX60', 'QX70', 'QX80',\n",
       "       'Quattroporte', 'Quest', 'R-Class', 'R32', 'R8', 'RAV4', 'RC 350',\n",
       "       'RC F', 'RDX', 'RL', 'RLX', 'RS 4', 'RS 5', 'RS 6', 'RS 7', 'RSX',\n",
       "       'RX 300', 'RX 330', 'RX 350', 'RX 400h', 'RX 450h', 'RX-8',\n",
       "       'Rabbit', 'Raider', 'Rainier', 'Ram Cargo', 'Ram Pickup 1500',\n",
       "       'Ram Pickup 2500', 'Ram Pickup 3500', 'Ram Van', 'Range Rover',\n",
       "       'Range Rover Evoque', 'Range Rover Sport', 'Ranger', 'Rapide',\n",
       "       'Regal', 'Regency', 'Relay', 'Rendezvous', 'Reno', 'Ridgeline',\n",
       "       'Rio', 'Riviera', 'Roadmaster', 'Rodeo', 'Rodeo Sport', 'Rogue',\n",
       "       'Rogue Select', 'Rondo', 'Routan', 'S-10', 'S-10 Blazer',\n",
       "       'S-Class', 'S-Series', 'S-Type', 'S2000', 'S4', 'S40', 'S5', 'S6',\n",
       "       'S60', 'S7', 'S70', 'S8', 'S80', 'S90', 'SC 300', 'SC 400',\n",
       "       'SC 430', 'SL-Class', 'SLK-Class', 'SLS AMG', 'SQ5', 'SRX', 'SS',\n",
       "       'SSR', 'STS', 'STS-V', 'SX4', 'Sable', 'Safari', 'Safari Cargo',\n",
       "       'Santa Fe', 'Santa Fe Sport', 'Savana', 'Savana Cargo', 'Sebring',\n",
       "       'Sedona', 'Sentra', 'Sephia', 'Sequoia', 'Seville', 'Shelby GT500',\n",
       "       'Sienna', 'Sierra 1500', 'Sierra 1500 Classic',\n",
       "       'Sierra 1500 Hybrid', 'Sierra 1500HD', 'Sierra 2500',\n",
       "       'Sierra 2500HD', 'Sierra 2500HD Classic', 'Sierra 3500',\n",
       "       'Sierra 3500HD', 'Silhouette', 'Silverado 1500',\n",
       "       'Silverado 1500 Classic', 'Silverado 1500 Hybrid',\n",
       "       'Silverado 1500HD', 'Silverado 2500', 'Silverado 2500HD',\n",
       "       'Silverado 2500HD Classic', 'Silverado 3500',\n",
       "       'Silverado 3500 Classic', 'Silverado 3500HD', 'Sky', 'Solstice',\n",
       "       'Sonata', 'Sonata Hybrid', 'Sonic', 'Sonoma', 'Sorento', 'Soul',\n",
       "       'Spark', 'Spark EV', 'Spectra', 'Spirit', 'Sportage', 'Sprinter',\n",
       "       'Sprinter Cargo', 'Spyder', 'Stratus', 'Suburban', 'Sunfire',\n",
       "       'T100', 'TL', 'TSX', 'TSX Sport Wagon', 'TT', 'TT RS', 'TTS',\n",
       "       'Tacoma', 'Tahoe', 'Tahoe Hybrid', 'Tahoe Limited/Z71', 'Taurus',\n",
       "       'Taurus X', 'Tempo', 'Tercel', 'Terrain', 'Terraza', 'Thunderbird',\n",
       "       'Tiburon', 'Tiguan', 'Titan', 'Torrent', 'Touareg', 'Touareg 2',\n",
       "       'Town Car', 'Town and Country', 'Tracer', 'Tracker', 'TrailBlazer',\n",
       "       'TrailBlazer EXT', 'Transit Connect', 'Transit Van',\n",
       "       'Transit Wagon', 'Traverse', 'Tribeca', 'Tribute',\n",
       "       'Tribute Hybrid', 'Trooper', 'Truck', 'Tucson', 'Tundra',\n",
       "       'Uplander', 'V40', 'V50', 'V60', 'V70', 'V8 Vantage', 'VUE',\n",
       "       'VUE Hybrid', 'Veloster', 'Venture', 'Venza', 'Veracruz', 'Verano',\n",
       "       'Verona', 'Versa', 'Versa Note', 'Vibe', 'Villager', 'Viper',\n",
       "       'Vitara', 'Volt', 'Voyager', 'WRX', 'Windstar', 'Windstar Cargo',\n",
       "       'Wrangler', 'X-Type', 'X1', 'X3', 'X4', 'X5', 'X5 M', 'X6', 'X6 M',\n",
       "       'XC', 'XC60', 'XC70', 'XC90', 'XF', 'XG300', 'XG350', 'XJ',\n",
       "       'XJ-Series', 'XK', 'XK-Series', 'XL-7', 'XL7', 'XLR', 'XTS',\n",
       "       'XV Crosstrek', 'Xterra', 'Yaris', 'Yukon', 'Yukon Denali',\n",
       "       'Yukon Hybrid', 'Yukon XL', 'Z3', 'Z4', 'Z4 M', 'ZDX', 'Zephyr',\n",
       "       'a4', 'a6', 'accord', 'alero', 'allroad', 'allroad quattro', 'alp',\n",
       "       'astro', 'avalon', 'avenger', 'aveo', 'b1500', 'b200', 'b2300',\n",
       "       'beetle', 'borrego', 'breeze', 'c230', 'c230wz', 'c240s', 'c240w',\n",
       "       'camaro', 'camry', 'capt', 'caravan', 'carrera', 'cavalier',\n",
       "       'century', 'charger', 'cherokee', 'ciera', 'civic', 'cl55',\n",
       "       'cobalt', 'colorado', 'comm', 'compass', 'concorde', 'corolla',\n",
       "       'corsica', 'corvette', 'cougar', 'crossfire', 'crown', 'cruze',\n",
       "       'cx-7', 'dakota', 'discovery', 'dts', 'durango', 'e', 'e150',\n",
       "       'e250', 'e300dt', 'e350', 'el', 'elantra', 'endeavor', 'envoy',\n",
       "       'equinox', 'escalade', 'escape', 'eurovan', 'excurs', 'expedit',\n",
       "       'expedition', 'expeditn', 'explorer', 'f150', 'f250', 'f350',\n",
       "       'focus', 'forester', 'fortwo', 'freestyle', 'g1500', 'g2500',\n",
       "       'g3500', 'g5', 'g500', 'g55', 'g6', 'galant', 'golf', 'gr',\n",
       "       'grand', 'gx', 'hhr', 'i-MiEV', 'i-Series', 'i8', 'iQ', 'impala',\n",
       "       'interstate', 'intrepid', 'intrigue', 'jetta', 'journey',\n",
       "       'lacrosse', 'lancer', 'legacy', 'lr3', 'lumina', 'lx', 'magnum',\n",
       "       'malibu', 'matrix', 'mazda3', 'mazda5', 'mazda6', 'mdx', 'mkt',\n",
       "       'montana', 'mountaineer', 'mountnr', 'mpv', 'neon', 'odyssey',\n",
       "       'optima', 'optra', 'pacifica', 'passat', 'pathfind', 'pathfinder',\n",
       "       'patriot', 'pickup', 'pilot', 'police', 'previa', 'pt', 'pursuit',\n",
       "       'quattroporte', 'quest', 'rainier', 'ram', 'ram3500', 'range',\n",
       "       'ranger', 'rangerover', 'regal', 'ridgelin', 'rio', 'rl', 'routan',\n",
       "       'rr', 'rrs', 'rx8', 's10', 's55', 'safari', 'santa', 'savana',\n",
       "       'sebring', 'sienna', 'siera', 'silhouette', 'sl55', 'sonic',\n",
       "       'sonoma', 'sportage', 'sprinter', 'sr', 'srx', 'stratus', 'sts',\n",
       "       'subrbn', 'suburban', 'swift', 'sx4', 'tC', 'tahoe', 'taurus',\n",
       "       'thunderbird', 'town', 'tribute', 'tucson', 'tundra',\n",
       "       'twn&country', 'twn/cntry', 'uplander', 'uplandr', 'venture',\n",
       "       'versa', 'vibe', 'villager', 'voyager', 'wave', 'windstar',\n",
       "       'wrangler', 'x-trail', 'xA', 'xB', 'xD', 'yaris', 'yukon', nan],\n",
       "      dtype=object)"
      ]
     },
     "execution_count": 13,
     "metadata": {},
     "output_type": "execute_result"
    }
   ],
   "source": [
    "data_train['model'].sort_values().unique()"
   ]
  },
  {
   "cell_type": "markdown",
   "id": "ad48b51f",
   "metadata": {},
   "source": [
    "Приведем модель к нижнему регистру"
   ]
  },
  {
   "cell_type": "code",
   "execution_count": 14,
   "id": "99eff09e",
   "metadata": {},
   "outputs": [
    {
     "data": {
      "text/plain": [
       "array(['1 series', '1500', '190-class', '2 series', '200', '200sx',\n",
       "       '2500', '3', '3 series', '3 series gran turismo', '300',\n",
       "       '300-class', '3000gt', '300e', '300m', '300zx', '320i', '323i',\n",
       "       '328i', '3500', '350z', '370z', '4 series', '4 series gran coupe',\n",
       "       '400-class', '420-class', '420sel', '42c', '458 italia', '4runner',\n",
       "       '5 series', '5 series gran turismo', '500', '500-class', '500e',\n",
       "       '500l', '6', '6 series', '6 series gran coupe', '626', '7',\n",
       "       '7 series', '750i', '750li', '750lxi', '8 series', '850', '9-2x',\n",
       "       '9-3', '9-5', '9-7x', '911', '940', '960', 'a3', 'a4', 'a5', 'a6',\n",
       "       'a7', 'a8', 'acadia', 'accent', 'accord', 'accord crosstour',\n",
       "       'accord hybrid', 'activehybrid 5', 'activehybrid 7',\n",
       "       'activehybrid x6', 'aerio', 'alero', 'allroad', 'allroad quattro',\n",
       "       'alp', 'altima', 'altima hybrid', 'amanti', 'amigo', 'armada',\n",
       "       'ascender', 'aspen', 'aspire', 'astra', 'astro', 'astro cargo',\n",
       "       'ats', 'aura', 'aura hybrid', 'aurora', 'avalanche', 'avalon',\n",
       "       'avalon hybrid', 'avenger', 'aveo', 'aviator', 'axiom', 'azera',\n",
       "       'aztek', 'b-class electric drive', 'b-series', 'b-series pickup',\n",
       "       'b-series truck', 'b1500', 'b200', 'b2300', 'b9 tribeca', 'baja',\n",
       "       'beetle', 'beetle convertible', 'black diamond avalanche',\n",
       "       'blackwood', 'blazer', 'bonneville', 'borrego', 'boxster',\n",
       "       'bravada', 'breeze', 'brz', 'c-class', 'c-max energi',\n",
       "       'c-max hybrid', 'c/k 1500 series', 'c/k 2500 series',\n",
       "       'c/k 3500 series', 'c/v cargo van', 'c/v tradesman', 'c230',\n",
       "       'c230wz', 'c240s', 'c240w', 'c30', 'c70', 'cabrio', 'cabriolet',\n",
       "       'cadenza', 'caliber', 'california', 'camaro', 'camry',\n",
       "       'camry hybrid', 'camry solara', 'canyon', 'caprice', 'capt',\n",
       "       'captiva sport', 'caravan', 'carrera', 'catera', 'cavalier',\n",
       "       'cayenne', 'cayman', 'cayman s', 'cc', 'celica', 'century',\n",
       "       'challenger', 'charger', 'cherokee', 'ciera', 'cirrus', 'civic',\n",
       "       'civic del sol', 'cl', 'cl-class', 'cl55', 'cla-class', 'classic',\n",
       "       'clk-class', 'cls-class', 'cobalt', 'colorado', 'comm',\n",
       "       'commander', 'compass', 'concorde', 'continental',\n",
       "       'continental flying spur', 'continental flying spur speed',\n",
       "       'continental gt', 'continental gt speed', 'continental gtc',\n",
       "       'continental gtc speed', 'continental supersports', 'contour',\n",
       "       'cooper', 'cooper clubman', 'cooper countryman', 'cooper coupe',\n",
       "       'cooper paceman', 'cooper roadster', 'corolla', 'corsica',\n",
       "       'corvette', 'corvette stingray', 'cougar', 'coupe', 'cr-v', 'cr-z',\n",
       "       'crossfire', 'crosstour', 'crown', 'crown victoria', 'cruze',\n",
       "       'ct 200h', 'cts', 'cts coupe', 'cts wagon', 'cts-v', 'cts-v coupe',\n",
       "       'cts-v wagon', 'cube', 'cutlass', 'cutlass ciera',\n",
       "       'cutlass supreme', 'cv tradesman', 'cx-5', 'cx-7', 'cx-9',\n",
       "       'dakota', 'dart', 'db9', 'deville', 'diamante', 'discovery',\n",
       "       'discovery series ii', 'dts', 'durango', 'e', 'e-150', 'e-250',\n",
       "       'e-350', 'e-class', 'e-series van', 'e-series wagon', 'e150',\n",
       "       'e250', 'e300dt', 'e350', 'echo', 'eclipse', 'eclipse spyder',\n",
       "       'econoline cargo', 'econoline wagon', 'edge', 'eighty-eight',\n",
       "       'eighty-eight royale', 'el', 'elantra', 'elantra coupe',\n",
       "       'elantra gt', 'elantra touring', 'eldorado', 'element', 'elr',\n",
       "       'enclave', 'encore', 'endeavor', 'entourage', 'envoy', 'envoy xl',\n",
       "       'envoy xuv', 'eos', 'equator', 'equinox', 'equus', 'es 300',\n",
       "       'es 300h', 'es 330', 'es 350', 'escalade', 'escalade esv',\n",
       "       'escalade ext', 'escalade hybrid', 'escape', 'escape hybrid',\n",
       "       'escort', 'esteem', 'eurovan', 'ex', 'ex35', 'excurs', 'excursion',\n",
       "       'expedit', 'expedition', 'expedition el', 'expeditn', 'explorer',\n",
       "       'explorer sport', 'explorer sport trac', 'express',\n",
       "       'express cargo', 'f-150', 'f-150 heritage', 'f-150 svt lightning',\n",
       "       'f-250', 'f-250 super duty', 'f-350 super duty',\n",
       "       'f-450 super duty', 'f-type', 'f150', 'f250', 'f350', 'f430',\n",
       "       'fiesta', 'firebird', 'fit', 'five hundred', 'fj cruiser',\n",
       "       'fleetwood', 'flex', 'flying spur', 'focus', 'focus st', 'forenza',\n",
       "       'forester', 'forte', 'fortwo', 'fr-s', 'freelander', 'freestar',\n",
       "       'freestyle', 'frontier', 'fusion', 'fusion energi',\n",
       "       'fusion hybrid', 'fx', 'fx35', 'fx45', 'fx50', 'g convertible',\n",
       "       'g coupe', 'g sedan', 'g-class', 'g1500', 'g20', 'g2500', 'g3',\n",
       "       'g35', 'g3500', 'g37', 'g37 convertible', 'g37 coupe', 'g5',\n",
       "       'g500', 'g55', 'g6', 'g8', 'galant', 'gallardo', 'genesis',\n",
       "       'genesis coupe', 'ghibli', 'ghost', 'gl-class', 'gla-class', 'gli',\n",
       "       'glk-class', 'golf', 'golf gti', 'golf r', 'gr', 'grand',\n",
       "       'grand am', 'grand caravan', 'grand cherokee', 'grand marquis',\n",
       "       'grand prix', 'grand vitara', 'gransport', 'granturismo',\n",
       "       'granturismo convertible', 'gs 300', 'gs 350', 'gs 400', 'gs 430',\n",
       "       'gs 450h', 'gs 460', 'gt-r', 'gti', 'gto', 'gx', 'gx 460',\n",
       "       'gx 470', 'h1', 'h2', 'h2 sut', 'h3', 'h3t', 'hhr', 'highlander',\n",
       "       'highlander hybrid', 'hs 250h', 'i-miev', 'i-series', 'i30', 'i35',\n",
       "       'i8', 'ilx', 'impala', 'impala limited', 'impreza', 'impreza wrx',\n",
       "       'insight', 'integra', 'interstate', 'intrepid', 'intrigue', 'ion',\n",
       "       'iq', 'is 250', 'is 250 c', 'is 300', 'is 350', 'is 350 c', 'is f',\n",
       "       'j30', 'jetta', 'jetta gli', 'jetta hybrid', 'jetta sportwagen',\n",
       "       'jimmy', 'journey', 'juke', 'jx', 'k900', 'karma', 'kizashi',\n",
       "       'l-series', 'l300', 'lacrosse', 'lancer', 'lancer evolution',\n",
       "       'lancer sportback', 'land cruiser', 'le baron', 'leaf', 'legacy',\n",
       "       'legend', 'lesabre', 'lhs', 'liberty', 'lr2', 'lr3', 'lr4', 'ls',\n",
       "       'ls 400', 'ls 430', 'ls 460', 'ls 600h l', 'lucerne', 'lumina',\n",
       "       'lx', 'lx 450', 'lx 470', 'lx 570', 'm', 'm-class', 'm3', 'm35',\n",
       "       'm37', 'm4', 'm45', 'm5', 'm56', 'm6', 'm6 gran coupe', 'macan',\n",
       "       'magnum', 'malibu', 'malibu classic', 'malibu hybrid',\n",
       "       'malibu maxx', 'marauder', 'mariner', 'mariner hybrid', 'mark lt',\n",
       "       'mark viii', 'matrix', 'maxima', 'mazda2', 'mazda3', 'mazda5',\n",
       "       'mazda6', 'mazdaspeed 3', 'mazdaspeed mazda3', 'mazdaspeed mazda6',\n",
       "       'mazdaspeed mx-5 miata', 'mazdaspeed protege', 'mazdaspeed3',\n",
       "       'mdx', 'metro', 'milan', 'milan hybrid', 'millenia', 'mirage',\n",
       "       'mkc', 'mks', 'mkt', 'mkx', 'mkz', 'mkz hybrid', 'ml55 amg',\n",
       "       'model s', 'montana', 'montana sv6', 'monte carlo', 'montego',\n",
       "       'monterey', 'montero', 'montero sport', 'mountaineer', 'mountnr',\n",
       "       'mpv', 'mr2 spyder', 'murano', 'murano crosscabriolet', 'mustang',\n",
       "       'mustang svt cobra', 'mx-5 miata', 'mystique', 'navigator',\n",
       "       'navigator l', 'neon', 'new beetle', 'nitro', 'nubira', 'nv',\n",
       "       'nv cargo', 'nv passenger', 'nv200', 'odyssey', 'optima', 'optra',\n",
       "       'outback', 'outlander', 'outlander sport', 'outlook', 'pacifica',\n",
       "       'panamera', 'park avenue', 'paseo', 'passat', 'passport',\n",
       "       'pathfind', 'pathfinder', 'patriot', 'phaeton', 'pickup', 'pilot',\n",
       "       'police', 'prelude', 'previa', 'prius', 'prius c', 'prius plug-in',\n",
       "       'prius v', 'prizm', 'promaster cargo van', 'protege', 'protege5',\n",
       "       'prowler', 'pt', 'pt cruiser', 'pursuit', 'q3', 'q45', 'q5', 'q50',\n",
       "       'q60 convertible', 'q60 coupe', 'q7', 'q70', 'quattroporte',\n",
       "       'quest', 'qx', 'qx4', 'qx50', 'qx56', 'qx60', 'qx70', 'qx80',\n",
       "       'r-class', 'r32', 'r8', 'rabbit', 'raider', 'rainier', 'ram',\n",
       "       'ram cargo', 'ram pickup 1500', 'ram pickup 2500',\n",
       "       'ram pickup 3500', 'ram van', 'ram3500', 'range', 'range rover',\n",
       "       'range rover evoque', 'range rover sport', 'ranger', 'rangerover',\n",
       "       'rapide', 'rav4', 'rc 350', 'rc f', 'rdx', 'regal', 'regency',\n",
       "       'relay', 'rendezvous', 'reno', 'ridgelin', 'ridgeline', 'rio',\n",
       "       'riviera', 'rl', 'rlx', 'roadmaster', 'rodeo', 'rodeo sport',\n",
       "       'rogue', 'rogue select', 'rondo', 'routan', 'rr', 'rrs', 'rs 4',\n",
       "       'rs 5', 'rs 6', 'rs 7', 'rsx', 'rx 300', 'rx 330', 'rx 350',\n",
       "       'rx 400h', 'rx 450h', 'rx-8', 'rx8', 's-10', 's-10 blazer',\n",
       "       's-class', 's-series', 's-type', 's10', 's2000', 's4', 's40', 's5',\n",
       "       's55', 's6', 's60', 's7', 's70', 's8', 's80', 's90', 'sable',\n",
       "       'safari', 'safari cargo', 'santa', 'santa fe', 'santa fe sport',\n",
       "       'savana', 'savana cargo', 'sc 300', 'sc 400', 'sc 430', 'sebring',\n",
       "       'sedona', 'sentra', 'sephia', 'sequoia', 'seville', 'shelby gt500',\n",
       "       'sienna', 'siera', 'sierra 1500', 'sierra 1500 classic',\n",
       "       'sierra 1500 hybrid', 'sierra 1500hd', 'sierra 2500',\n",
       "       'sierra 2500hd', 'sierra 2500hd classic', 'sierra 3500',\n",
       "       'sierra 3500hd', 'silhouette', 'silverado 1500',\n",
       "       'silverado 1500 classic', 'silverado 1500 hybrid',\n",
       "       'silverado 1500hd', 'silverado 2500', 'silverado 2500hd',\n",
       "       'silverado 2500hd classic', 'silverado 3500',\n",
       "       'silverado 3500 classic', 'silverado 3500hd', 'sky', 'sl-class',\n",
       "       'sl55', 'slk-class', 'sls amg', 'solstice', 'sonata',\n",
       "       'sonata hybrid', 'sonic', 'sonoma', 'sorento', 'soul', 'spark',\n",
       "       'spark ev', 'spectra', 'spirit', 'sportage', 'sprinter',\n",
       "       'sprinter cargo', 'spyder', 'sq5', 'sr', 'srx', 'ss', 'ssr',\n",
       "       'stratus', 'sts', 'sts-v', 'subrbn', 'suburban', 'sunfire',\n",
       "       'swift', 'sx4', 't100', 'tacoma', 'tahoe', 'tahoe hybrid',\n",
       "       'tahoe limited/z71', 'taurus', 'taurus x', 'tc', 'tempo', 'tercel',\n",
       "       'terrain', 'terraza', 'thunderbird', 'tiburon', 'tiguan', 'titan',\n",
       "       'tl', 'torrent', 'touareg', 'touareg 2', 'town',\n",
       "       'town and country', 'town car', 'tracer', 'tracker', 'trailblazer',\n",
       "       'trailblazer ext', 'transit connect', 'transit van',\n",
       "       'transit wagon', 'traverse', 'tribeca', 'tribute',\n",
       "       'tribute hybrid', 'trooper', 'truck', 'tsx', 'tsx sport wagon',\n",
       "       'tt', 'tt rs', 'tts', 'tucson', 'tundra', 'twn&country',\n",
       "       'twn/cntry', 'uplander', 'uplandr', 'v40', 'v50', 'v60', 'v70',\n",
       "       'v8 vantage', 'veloster', 'venture', 'venza', 'veracruz', 'verano',\n",
       "       'verona', 'versa', 'versa note', 'vibe', 'villager', 'viper',\n",
       "       'vitara', 'volt', 'voyager', 'vue', 'vue hybrid', 'wave',\n",
       "       'windstar', 'windstar cargo', 'wrangler', 'wrx', 'x-trail',\n",
       "       'x-type', 'x1', 'x3', 'x4', 'x5', 'x5 m', 'x6', 'x6 m', 'xa', 'xb',\n",
       "       'xc', 'xc60', 'xc70', 'xc90', 'xd', 'xf', 'xg300', 'xg350', 'xj',\n",
       "       'xj-series', 'xk', 'xk-series', 'xl-7', 'xl7', 'xlr', 'xterra',\n",
       "       'xts', 'xv crosstrek', 'yaris', 'yukon', 'yukon denali',\n",
       "       'yukon hybrid', 'yukon xl', 'z3', 'z4', 'z4 m', 'zdx', 'zephyr',\n",
       "       nan], dtype=object)"
      ]
     },
     "execution_count": 14,
     "metadata": {},
     "output_type": "execute_result"
    }
   ],
   "source": [
    "data_train['model'] = data_train['model'].str.lower()\n",
    "data_train['model'].sort_values().unique()"
   ]
  },
  {
   "cell_type": "code",
   "execution_count": 15,
   "id": "1db562a0",
   "metadata": {},
   "outputs": [
    {
     "data": {
      "text/plain": [
       "altima            15454\n",
       "f-150             11408\n",
       "fusion            10244\n",
       "camry             10000\n",
       "escape             9447\n",
       "                  ...  \n",
       "420-class             1\n",
       "c230                  1\n",
       "rrs                   1\n",
       "activehybrid 5        1\n",
       "g500                  1\n",
       "Name: model, Length: 839, dtype: int64"
      ]
     },
     "execution_count": 15,
     "metadata": {},
     "output_type": "execute_result"
    }
   ],
   "source": [
    "data_train['model'].value_counts()"
   ]
  },
  {
   "cell_type": "markdown",
   "id": "bd9e85e5",
   "metadata": {},
   "source": [
    "## Салон"
   ]
  },
  {
   "cell_type": "code",
   "execution_count": null,
   "id": "95eec2f5",
   "metadata": {},
   "outputs": [],
   "source": []
  },
  {
   "cell_type": "markdown",
   "id": "3c665deb",
   "metadata": {},
   "source": [
    "## Тип кузова"
   ]
  },
  {
   "cell_type": "code",
   "execution_count": null,
   "id": "caeeb66e",
   "metadata": {},
   "outputs": [],
   "source": []
  },
  {
   "cell_type": "markdown",
   "id": "39293a30",
   "metadata": {},
   "source": [
    "## Трансмиссия"
   ]
  },
  {
   "cell_type": "code",
   "execution_count": null,
   "id": "dda3374e",
   "metadata": {},
   "outputs": [],
   "source": []
  },
  {
   "cell_type": "markdown",
   "id": "6914a029",
   "metadata": {},
   "source": [
    "## ВИН"
   ]
  },
  {
   "cell_type": "code",
   "execution_count": null,
   "id": "80a75fe0",
   "metadata": {},
   "outputs": [],
   "source": []
  },
  {
   "cell_type": "markdown",
   "id": "2c391be0",
   "metadata": {},
   "source": [
    "## Состояние"
   ]
  },
  {
   "cell_type": "code",
   "execution_count": null,
   "id": "1801e835",
   "metadata": {},
   "outputs": [],
   "source": []
  },
  {
   "cell_type": "markdown",
   "id": "f2e8c525",
   "metadata": {},
   "source": [
    "## Пробег"
   ]
  },
  {
   "cell_type": "code",
   "execution_count": null,
   "id": "76116f90",
   "metadata": {},
   "outputs": [],
   "source": []
  },
  {
   "cell_type": "markdown",
   "id": "d0ac5fcf",
   "metadata": {},
   "source": [
    "## Цвет кузова"
   ]
  },
  {
   "cell_type": "code",
   "execution_count": null,
   "id": "9a812b82",
   "metadata": {},
   "outputs": [],
   "source": []
  },
  {
   "cell_type": "markdown",
   "id": "95b0085e",
   "metadata": {},
   "source": [
    "## Продавец"
   ]
  },
  {
   "cell_type": "code",
   "execution_count": null,
   "id": "d613d1ed",
   "metadata": {},
   "outputs": [],
   "source": []
  },
  {
   "cell_type": "markdown",
   "id": "d9687a78",
   "metadata": {},
   "source": [
    "## Рыночная стоимость"
   ]
  },
  {
   "cell_type": "code",
   "execution_count": null,
   "id": "247f954a",
   "metadata": {},
   "outputs": [],
   "source": []
  },
  {
   "cell_type": "markdown",
   "id": "69a9a9d3",
   "metadata": {},
   "source": [
    "## Дата продажи"
   ]
  },
  {
   "cell_type": "code",
   "execution_count": null,
   "id": "4ecbaed9",
   "metadata": {},
   "outputs": [],
   "source": []
  },
  {
   "cell_type": "markdown",
   "id": "a4dd6246",
   "metadata": {},
   "source": [
    "## Цена продажи"
   ]
  },
  {
   "cell_type": "code",
   "execution_count": null,
   "id": "5acde4c2",
   "metadata": {},
   "outputs": [],
   "source": []
  },
  {
   "cell_type": "markdown",
   "id": "44979097",
   "metadata": {},
   "source": [
    "## Цвет салона"
   ]
  },
  {
   "cell_type": "code",
   "execution_count": null,
   "id": "ffbe76f1",
   "metadata": {},
   "outputs": [],
   "source": []
  }
 ],
 "metadata": {
  "kernelspec": {
   "display_name": "Python 3 (ipykernel)",
   "language": "python",
   "name": "python3"
  },
  "language_info": {
   "codemirror_mode": {
    "name": "ipython",
    "version": 3
   },
   "file_extension": ".py",
   "mimetype": "text/x-python",
   "name": "python",
   "nbconvert_exporter": "python",
   "pygments_lexer": "ipython3",
   "version": "3.9.13"
  }
 },
 "nbformat": 4,
 "nbformat_minor": 5
}
